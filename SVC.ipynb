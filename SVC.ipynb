{
  "cells": [
    {
      "cell_type": "code",
      "execution_count": null,
      "id": "160a3548",
      "metadata": {
        "id": "160a3548"
      },
      "outputs": [],
      "source": [
        "import pandas as pd\n",
        "import numpy as np\n",
        "import string\n",
        "import seaborn as sns\n",
        "import matplotlib.pyplot as plt"
      ]
    },
    {
      "cell_type": "code",
      "execution_count": null,
      "id": "12562288",
      "metadata": {
        "id": "12562288"
      },
      "outputs": [],
      "source": [
        "df_train = pd.read_csv('df_train_clean2.csv')"
      ]
    },
    {
      "cell_type": "code",
      "execution_count": null,
      "id": "e86a287f",
      "metadata": {
        "id": "e86a287f"
      },
      "outputs": [],
      "source": [
        "df_test = pd.read_csv('df_test_clean2.csv')"
      ]
    },
    {
      "cell_type": "code",
      "execution_count": null,
      "id": "35544edd",
      "metadata": {
        "id": "35544edd"
      },
      "outputs": [],
      "source": [
        "df_train.info()"
      ]
    },
    {
      "cell_type": "code",
      "execution_count": null,
      "id": "e5011ef9",
      "metadata": {
        "id": "e5011ef9"
      },
      "outputs": [],
      "source": [
        "df_test.info()"
      ]
    },
    {
      "cell_type": "code",
      "execution_count": null,
      "id": "0d2b7c60",
      "metadata": {
        "scrolled": false,
        "id": "0d2b7c60"
      },
      "outputs": [],
      "source": [
        "df_train = df_train.dropna()"
      ]
    },
    {
      "cell_type": "code",
      "execution_count": null,
      "id": "f25da0dd",
      "metadata": {
        "id": "f25da0dd"
      },
      "outputs": [],
      "source": [
        "df_test = df_test.dropna()"
      ]
    },
    {
      "cell_type": "code",
      "execution_count": null,
      "id": "f74530f3",
      "metadata": {
        "id": "f74530f3"
      },
      "outputs": [],
      "source": [
        "df_test.to_csv('df_test_clean_svc.csv', index = False)"
      ]
    },
    {
      "cell_type": "code",
      "execution_count": null,
      "id": "805854b6",
      "metadata": {
        "id": "805854b6"
      },
      "outputs": [],
      "source": [
        "#from sklearn.model_selection import train_test_split\n",
        "\n",
        "#X_train, X_test, Y_train, Y_test = train_test_split(df['normalisasi'],\n",
        "                                                    #df['sentiment'],\n",
        "                                                    #test_size=0.2,\n",
        "                                                    #random_state=42,\n",
        "                                                    #stratify=df['sentiment'])"
      ]
    },
    {
      "cell_type": "code",
      "execution_count": null,
      "id": "f451b012",
      "metadata": {
        "id": "f451b012"
      },
      "outputs": [],
      "source": [
        "df_test.info()"
      ]
    },
    {
      "cell_type": "code",
      "execution_count": null,
      "id": "fe9ce41f",
      "metadata": {
        "id": "fe9ce41f"
      },
      "outputs": [],
      "source": [
        "X_train = df_train.normalisasi"
      ]
    },
    {
      "cell_type": "code",
      "execution_count": null,
      "id": "1dce16e8",
      "metadata": {
        "id": "1dce16e8"
      },
      "outputs": [],
      "source": [
        "X_test = df_test.normalisasi"
      ]
    },
    {
      "cell_type": "code",
      "execution_count": null,
      "id": "3061a1ce",
      "metadata": {
        "id": "3061a1ce"
      },
      "outputs": [],
      "source": [
        "Y_train = df_train.sentiment"
      ]
    },
    {
      "cell_type": "code",
      "execution_count": null,
      "id": "7fe9df14",
      "metadata": {
        "id": "7fe9df14"
      },
      "outputs": [],
      "source": [
        "Y_test = df_test.sentiment"
      ]
    },
    {
      "cell_type": "code",
      "execution_count": null,
      "id": "4b6af450",
      "metadata": {
        "id": "4b6af450"
      },
      "outputs": [],
      "source": [
        "print ('Size of Test Data ', X_test.shape[0])\n",
        "print ('Distribution of classes in Training Data :')\n",
        "print ('Positive Sentiment ', str(sum(Y_train == 1)/ len(Y_train) * 100.0))\n",
        "print ('Negative Sentiment ', str(sum(Y_train == 0)/ len(Y_train) * 100.0))\n",
        "print ('Distribution of classes in Testing Data :')\n",
        "print ('Positive Sentiment ', str(sum(Y_test == 1)/ len(Y_test) * 100.0))\n",
        "print ('Negative Sentiment ', str(sum(Y_test == 0)/ len(Y_test) * 100.0))"
      ]
    },
    {
      "cell_type": "code",
      "execution_count": null,
      "id": "0a0c5bb2",
      "metadata": {
        "id": "0a0c5bb2"
      },
      "outputs": [],
      "source": [
        "from sklearn.feature_extraction.text import TfidfVectorizer\n",
        "\n",
        "tfidf = TfidfVectorizer(min_df = 10, ngram_range=(1,1))\n",
        "X_train_tf = tfidf.fit_transform(X_train.apply(lambda x: np.str_(x)))\n",
        "X_test_tf = tfidf.transform(X_test.apply(lambda x: np.str_(x)))"
      ]
    },
    {
      "cell_type": "code",
      "execution_count": null,
      "id": "ec18e6a9",
      "metadata": {
        "id": "ec18e6a9"
      },
      "outputs": [],
      "source": [
        "#trial another approach for SVM\n",
        "from sklearn.svm import SVC\n",
        "model = SVC()\n",
        "model.fit(X_train_tf, Y_train)"
      ]
    },
    {
      "cell_type": "code",
      "execution_count": null,
      "id": "b30c6f8b",
      "metadata": {
        "id": "b30c6f8b"
      },
      "outputs": [],
      "source": [
        "#trial another approach for SVM\n",
        "from sklearn.metrics import accuracy_score\n",
        "pred = model.predict(X_test_tf)\n",
        "print ('Accuracy Score = ', accuracy_score(Y_test, pred))"
      ]
    },
    {
      "cell_type": "code",
      "execution_count": null,
      "id": "44b233fb",
      "metadata": {
        "id": "44b233fb"
      },
      "outputs": [],
      "source": [
        "#trial another approach for SVM\n",
        "from sklearn.metrics import classification_report\n",
        "\n",
        "print (\"\\nHere is the classification report:\")\n",
        "print (classification_report(Y_test, pred))"
      ]
    },
    {
      "cell_type": "code",
      "execution_count": null,
      "id": "c4b01cde",
      "metadata": {
        "id": "c4b01cde"
      },
      "outputs": [],
      "source": [
        "class_names = ['negative', 'positive']"
      ]
    },
    {
      "cell_type": "code",
      "execution_count": null,
      "id": "c788bdf6",
      "metadata": {
        "id": "c788bdf6"
      },
      "outputs": [],
      "source": [
        "#trial antoher approach for SVM\n",
        "from sklearn.metrics import confusion_matrix\n",
        "def show_confusion_matrix(confusion_matrix):\n",
        "  hmap = sns.heatmap(confusion_matrix, annot=True, fmt=\"d\", cmap=\"Blues\")\n",
        "  hmap.yaxis.set_ticklabels(hmap.yaxis.get_ticklabels(), rotation=0, ha='right')\n",
        "  hmap.xaxis.set_ticklabels(hmap.xaxis.get_ticklabels(), rotation=30, ha='right')\n",
        "  plt.ylabel('True sentiment')\n",
        "  plt.xlabel('Predicted sentiment');\n",
        "\n",
        "cm = confusion_matrix(Y_test, pred)\n",
        "df_cm = pd.DataFrame(cm, index=class_names, columns=class_names)\n",
        "show_confusion_matrix(df_cm)"
      ]
    },
    {
      "cell_type": "code",
      "execution_count": null,
      "id": "eb5a66e6",
      "metadata": {
        "id": "eb5a66e6"
      },
      "outputs": [],
      "source": [
        "#trial another approach for SVM\n",
        "from sklearn.metrics import matthews_corrcoef\n",
        "\n",
        "matthews_corrcoef(Y_test, pred)"
      ]
    },
    {
      "cell_type": "code",
      "execution_count": null,
      "id": "f2d60615",
      "metadata": {
        "scrolled": false,
        "id": "f2d60615"
      },
      "outputs": [],
      "source": [
        "from sklearn.model_selection import GridSearchCV\n",
        "\n",
        "# defining parameter range\n",
        "param_grid = {'C': [0.1, 1, 10, 100, 1000],\n",
        "              'gamma': [1, 0.1, 0.01, 0.001, 0.0001],\n",
        "              'kernel': ['rbf']}\n",
        "\n",
        "grid = GridSearchCV(SVC(), param_grid, refit = True, verbose = 3)\n",
        "\n",
        "# fitting the model for grid search\n",
        "grid.fit(X_train_tf, Y_train)"
      ]
    },
    {
      "cell_type": "code",
      "execution_count": null,
      "id": "7a37441a",
      "metadata": {
        "id": "7a37441a"
      },
      "outputs": [],
      "source": [
        "print(grid.best_params_)\n",
        "\n",
        "print(grid.best_estimator_)"
      ]
    },
    {
      "cell_type": "code",
      "execution_count": null,
      "id": "8f6baf0e",
      "metadata": {
        "id": "8f6baf0e"
      },
      "outputs": [],
      "source": [
        "grid_predictions = grid.predict(X_test_tf)\n",
        "\n",
        "# print classification report\n",
        "print(classification_report(Y_test, grid_predictions))"
      ]
    },
    {
      "cell_type": "code",
      "execution_count": null,
      "id": "137b444a",
      "metadata": {
        "id": "137b444a"
      },
      "outputs": [],
      "source": [
        "#trial another approach for SVM\n",
        "print ('Accuracy Score = ', accuracy_score(Y_test, grid_predictions))"
      ]
    },
    {
      "cell_type": "code",
      "execution_count": null,
      "id": "d97462f8",
      "metadata": {
        "id": "d97462f8"
      },
      "outputs": [],
      "source": [
        "matthews_corrcoef(Y_test, grid_predictions)"
      ]
    },
    {
      "cell_type": "code",
      "execution_count": null,
      "id": "b7fd423b",
      "metadata": {
        "id": "b7fd423b"
      },
      "outputs": [],
      "source": [
        "d = {'normalisasi2':X_test,'sentiment2':Y_test}"
      ]
    },
    {
      "cell_type": "code",
      "execution_count": null,
      "id": "69806f1f",
      "metadata": {
        "id": "69806f1f"
      },
      "outputs": [],
      "source": [
        "d"
      ]
    },
    {
      "cell_type": "code",
      "execution_count": null,
      "id": "f650ee24",
      "metadata": {
        "id": "f650ee24"
      },
      "outputs": [],
      "source": [
        "d = pd.DataFrame(d)"
      ]
    },
    {
      "cell_type": "code",
      "execution_count": null,
      "id": "9212a65f",
      "metadata": {
        "id": "9212a65f"
      },
      "outputs": [],
      "source": [
        "d"
      ]
    },
    {
      "cell_type": "code",
      "execution_count": null,
      "id": "4671b75e",
      "metadata": {
        "id": "4671b75e"
      },
      "outputs": [],
      "source": [
        "dd = pd.concat([df, d], axis=1)"
      ]
    },
    {
      "cell_type": "code",
      "execution_count": null,
      "id": "7c94ef77",
      "metadata": {
        "id": "7c94ef77"
      },
      "outputs": [],
      "source": [
        "dd.info()"
      ]
    },
    {
      "cell_type": "code",
      "execution_count": null,
      "id": "7ba5ad30",
      "metadata": {
        "id": "7ba5ad30"
      },
      "outputs": [],
      "source": [
        "ddtest = dd.dropna()"
      ]
    },
    {
      "cell_type": "code",
      "execution_count": null,
      "id": "7579ba46",
      "metadata": {
        "id": "7579ba46"
      },
      "outputs": [],
      "source": [
        "ddtest.info()"
      ]
    },
    {
      "cell_type": "code",
      "execution_count": null,
      "id": "f73af1f1",
      "metadata": {
        "id": "f73af1f1"
      },
      "outputs": [],
      "source": [
        "ddtest = ddtest.drop(['filtered', 'cleaned', 'content', 'normalisasi2', 'sentiment2'], axis = 1)"
      ]
    },
    {
      "cell_type": "code",
      "execution_count": null,
      "id": "890a295e",
      "metadata": {
        "id": "890a295e"
      },
      "outputs": [],
      "source": [
        "ddtest.head()"
      ]
    },
    {
      "cell_type": "code",
      "execution_count": null,
      "id": "33f965ac",
      "metadata": {
        "id": "33f965ac"
      },
      "outputs": [],
      "source": [
        "ddtest.info()"
      ]
    },
    {
      "cell_type": "code",
      "execution_count": null,
      "id": "df211969",
      "metadata": {
        "id": "df211969"
      },
      "outputs": [],
      "source": [
        "ddtest.to_csv('ddtest.csv', index = False)"
      ]
    },
    {
      "cell_type": "code",
      "execution_count": null,
      "id": "7fa0fad9",
      "metadata": {
        "id": "7fa0fad9"
      },
      "outputs": [],
      "source": [
        "ddtrain = dd[dd['normalisasi2'].isnull()]"
      ]
    },
    {
      "cell_type": "code",
      "execution_count": null,
      "id": "a8cab556",
      "metadata": {
        "id": "a8cab556"
      },
      "outputs": [],
      "source": [
        "ddtrain.head()"
      ]
    },
    {
      "cell_type": "code",
      "execution_count": null,
      "id": "50a2c379",
      "metadata": {
        "id": "50a2c379"
      },
      "outputs": [],
      "source": [
        "ddtrain = ddtrain.drop(['normalisasi2', 'sentiment2'], axis=1)"
      ]
    },
    {
      "cell_type": "code",
      "execution_count": null,
      "id": "acc2e9c5",
      "metadata": {
        "id": "acc2e9c5"
      },
      "outputs": [],
      "source": [
        "ddtrain = ddtrain.dropna()"
      ]
    },
    {
      "cell_type": "code",
      "execution_count": null,
      "id": "8bfd2473",
      "metadata": {
        "id": "8bfd2473"
      },
      "outputs": [],
      "source": [
        "ddtrainbert = ddtrain"
      ]
    },
    {
      "cell_type": "code",
      "execution_count": null,
      "id": "882e701c",
      "metadata": {
        "id": "882e701c"
      },
      "outputs": [],
      "source": [
        "ddtrainbert = ddtrainbert.drop(['filtered','cleaned','normalisasi'],axis = 1)"
      ]
    },
    {
      "cell_type": "code",
      "execution_count": null,
      "id": "91442d8c",
      "metadata": {
        "id": "91442d8c"
      },
      "outputs": [],
      "source": [
        "ddtrainbert.to_csv('ddtrainbert.csv', index = False)"
      ]
    },
    {
      "cell_type": "code",
      "execution_count": null,
      "id": "f29d83a7",
      "metadata": {
        "id": "f29d83a7"
      },
      "outputs": [],
      "source": [
        "dftest = pd.read_csv('dftest.csv')"
      ]
    },
    {
      "cell_type": "code",
      "execution_count": null,
      "id": "62cf3b89",
      "metadata": {
        "id": "62cf3b89"
      },
      "outputs": [],
      "source": [
        "df_test_tf = tfidf.transform(dftest.apply(lambda x: np.str_(x)))"
      ]
    },
    {
      "cell_type": "code",
      "execution_count": null,
      "id": "6e7decbd",
      "metadata": {
        "id": "6e7decbd"
      },
      "outputs": [],
      "source": [
        "grid_predictions_df = grid.predict(df_test_tf)"
      ]
    },
    {
      "cell_type": "code",
      "execution_count": null,
      "id": "2cb5ab10",
      "metadata": {
        "id": "2cb5ab10"
      },
      "outputs": [],
      "source": [
        "grid_predictions_df"
      ]
    },
    {
      "cell_type": "code",
      "execution_count": null,
      "id": "e14594ef",
      "metadata": {
        "id": "e14594ef"
      },
      "outputs": [],
      "source": [
        "sample_reviews = dftest\n",
        "sample_reviews_tf = tfidf.transform(sample_reviews['content'])\n",
        "sentiment_predictions = grid.predict(sample_reviews_tf)\n",
        "sentiment_predictions = pd.DataFrame(data = sentiment_predictions,\n",
        "index=sample_reviews.index,\n",
        "columns=['sentiment_prediction'])\n",
        "sample_reviews = pd.concat([sample_reviews, sentiment_predictions], axis=1)\n",
        "print ('Some sample reviews with their sentiment - ')\n",
        "sample_reviews[['content','sentiment_prediction']]"
      ]
    },
    {
      "cell_type": "code",
      "execution_count": null,
      "id": "14df347b",
      "metadata": {
        "id": "14df347b"
      },
      "outputs": [],
      "source": [
        "df_test.to_csv('dftest_bert_new2.csv', index=False)"
      ]
    },
    {
      "cell_type": "code",
      "execution_count": null,
      "id": "3b9a8973",
      "metadata": {
        "id": "3b9a8973"
      },
      "outputs": [],
      "source": [
        "df_test.info()"
      ]
    },
    {
      "cell_type": "code",
      "execution_count": null,
      "id": "c37dc36f",
      "metadata": {
        "id": "c37dc36f"
      },
      "outputs": [],
      "source": [
        "dftestbert = df_test.drop(['filtered', 'cleaned', 'normalisasi'], axis=1)"
      ]
    },
    {
      "cell_type": "code",
      "execution_count": null,
      "id": "03c2a79f",
      "metadata": {
        "id": "03c2a79f"
      },
      "outputs": [],
      "source": [
        "dftestbert.to_csv('dftestbert_new_3.csv', index=False)"
      ]
    },
    {
      "cell_type": "code",
      "execution_count": null,
      "id": "1647bab3",
      "metadata": {
        "id": "1647bab3"
      },
      "outputs": [],
      "source": [
        "dftestbert.info()"
      ]
    },
    {
      "cell_type": "code",
      "execution_count": null,
      "id": "8fb44ede",
      "metadata": {
        "id": "8fb44ede"
      },
      "outputs": [],
      "source": [
        "df_test = [['content','sentiment']]"
      ]
    },
    {
      "cell_type": "code",
      "execution_count": null,
      "id": "0a5af438",
      "metadata": {
        "id": "0a5af438"
      },
      "outputs": [],
      "source": []
    }
  ],
  "metadata": {
    "kernelspec": {
      "display_name": "Python [conda env:root] *",
      "language": "python",
      "name": "conda-root-py"
    },
    "language_info": {
      "codemirror_mode": {
        "name": "ipython",
        "version": 3
      },
      "file_extension": ".py",
      "mimetype": "text/x-python",
      "name": "python",
      "nbconvert_exporter": "python",
      "pygments_lexer": "ipython3",
      "version": "3.9.7"
    },
    "colab": {
      "provenance": []
    }
  },
  "nbformat": 4,
  "nbformat_minor": 5
}